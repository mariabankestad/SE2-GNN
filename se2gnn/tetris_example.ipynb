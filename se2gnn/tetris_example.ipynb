{
 "cells": [
  {
   "cell_type": "code",
   "execution_count": 88,
   "metadata": {},
   "outputs": [],
   "source": [
    "import torch\n",
    "import matplotlib.pyplot as plt\n",
    "from torch_geometric.data import Data\n",
    "import seaborn as sns\n",
    "from torch_geometric.utils import  scatter\n",
    "\n",
    "from torch_geometric.nn.pool import radius_graph\n",
    "from models.util import rotate\n",
    "from torch_geometric.loader import DataLoader\n",
    "\n",
    "from models.model import RotTetrisModel, InvTetrisModel\n",
    "\n",
    "colors = sns.color_palette(\"Set1\")\n",
    "col = []\n",
    "for c in colors[:7]:\n",
    "    l_ = list(c)\n",
    "    l_.append(0.7)\n",
    "    col.append(tuple(l_))\n"
   ]
  },
  {
   "cell_type": "code",
   "execution_count": 89,
   "metadata": {},
   "outputs": [
    {
     "data": {
      "image/png": "[encoded data removed]",
      "text/plain": [
       "<Figure size 875x310 with 1 Axes>"
      ]
     },
     "metadata": {},
     "output_type": "display_data"
    }
   ],
   "source": [
    "# We create the tetris blocks\n",
    "\n",
    "block1=torch.tensor([[1.,0.],[2,0], [1.,1.], [0.,1.]])\n",
    "block2=torch.tensor([[1.,0.],[2,0], [3,0], [4,0]]) \n",
    "block3=torch.tensor([[0.,0.],[1,0], [2,0], [1,1]])\n",
    "block4=torch.tensor([[0.,0.],[1,0], [2,0], [2,1]])\n",
    "block5=torch.tensor([[0.,0.],[1,0], [2,0], [0,1]])\n",
    "block6=torch.tensor([[0.,0.],[1,0], [0,1], [1,1]])\n",
    "block7=torch.tensor([[1.,0.],[2,0], [2.,1.], [3.,1.]])\n",
    "import seaborn as sns\n",
    "alpha = 0.7\n",
    "\n",
    "sns.set_style(\"white\")\n",
    "sns.set_palette(\"Set1\")\n",
    "training_data = [block1,block2, block3, block4, block5, block6, block7]\n",
    "\n",
    "a = .4\n",
    "b =2.5\n",
    "\n",
    "colors = sns.color_palette(\"Set1\")\n",
    "col = []\n",
    "for c in colors[:7]:\n",
    "    l_ = list(c)\n",
    "    l_.append(0.7)\n",
    "    col.append(tuple(l_))\n",
    "\n",
    "#colors = [tuple(list(c).append(0.7) )for c in colors[:7]]\n",
    "fig, ax = plt.subplots(1,1,figsize=(8.75,3.1))\n",
    "\n",
    "ax.scatter(block1[:,0] + a , block1[:,1], marker = \"s\",s = 1000,facecolor = col[0],edgecolors= \"black\" )\n",
    "ax.scatter(block7[:,0]+a + 2.5, block7[:,1], marker = \"s\",s = 1000 ,facecolor = col[1],edgecolors= \"black\" )\n",
    "ax.scatter(block3[:,0]+a  -3.5, block3[:,1], marker = \"s\",s = 1000,facecolor = col[2] ,edgecolors= \"black\" )\n",
    "ax.scatter(block4[:,0]  -4.5, block4[:,1]-b, marker = \"s\",s = 1000,facecolor = col[3] ,edgecolors= \"black\")\n",
    "ax.scatter(block5[:,0] -1 , block4[:,1]-b, marker = \"s\",s = 1000,facecolor = col[4] ,edgecolors= \"black\")\n",
    "ax.scatter(block6[:,0] + 2.5  , block6[:,1]-b, marker = \"s\",facecolor = col[5],s = 1000 ,edgecolors= \"black\")\n",
    "ax.scatter(block2[:,0] + 4  , block2[:,1]-b, marker = \"s\",facecolor = col[6],s = 1000 ,edgecolors= \"black\")\n",
    "\n",
    "ax.set_xlim(-5.2,8.7)\n",
    "ax.set_ylim(-3.2,1.7)\n",
    "ax.set_yticks([])\n",
    "ax.set_xticks([]);\n"
   ]
  },
  {
   "cell_type": "code",
   "execution_count": 90,
   "metadata": {},
   "outputs": [],
   "source": [
    "# We create a function that derives the test accuracy\n",
    "def get_test_error(test_loader, model):\n",
    "    \n",
    "    preds = []\n",
    "    trues = []\n",
    "    neg_losses = []\n",
    "    crit  = torch.nn.NLLLoss()\n",
    "\n",
    "    for data in test_loader:\n",
    "        pos = data.pos\n",
    "        mean = scatter(pos, data.batch, dim=0, reduce ='mean')\n",
    "        pos = pos - mean[data.batch]\n",
    "        out = model(pos = pos, edge_index= data.edge_index,batch = data.batch)\n",
    "        pred = torch.argmax(out, dim = 1)\n",
    "        preds.append(pred.detach())\n",
    "        trues.append(data.y)\n",
    "        neg_losses.append(crit(out, data.y).item())\n",
    "\n",
    "    preds = torch.cat(preds)\n",
    "    trues = torch.cat(trues)\n",
    "\n",
    "    correct = preds == trues\n",
    "    acc_ =sum(correct)/len(correct)\n",
    "    nll = sum(neg_losses)/len(neg_losses)\n",
    "    return acc_,nll"
   ]
  },
  {
   "cell_type": "code",
   "execution_count": 91,
   "metadata": {},
   "outputs": [],
   "source": [
    "# We create train and test data\n",
    "\n",
    "y = 0\n",
    "data_list = []\n",
    "for d in training_data:\n",
    "    edge_index = radius_graph(d, 5)\n",
    "    data_list.append(Data(pos=d, edge_index=edge_index, y = y))\n",
    "    y = y +1\n",
    "train_loader = DataLoader(data_list, batch_size=len(data_list))\n",
    "\n",
    "torch.manual_seed(33)\n",
    "test_data = []\n",
    "for i in range(100):\n",
    "    for d in data_list:\n",
    "        pos = d.pos\n",
    "        mean = pos.mean()\n",
    "        pos_ = pos - mean\n",
    "        pos_ = rotate(torch.randn(1).item(), pos_)\n",
    "        test_data.append(Data(pos=pos_, edge_index=d.edge_index, y = d.y))\n",
    "test_loader = DataLoader(test_data, batch_size=32)"
   ]
  },
  {
   "cell_type": "code",
   "execution_count": 93,
   "metadata": {},
   "outputs": [],
   "source": [
    "# We train the non-equivariant GNN\n",
    "\n",
    "criterion = torch.nn.CrossEntropyLoss()\n",
    "from torch_geometric.utils import  scatter\n",
    "model_inv = InvTetrisModel(n_classes = 7, n_scalars=16, num_layers=2)\n",
    "optim = torch.optim.Adam(model_inv.parameters(), lr=1e-3)\n",
    "losses = []\n",
    "test_error_inv = []\n",
    "for epoch in range(100):\n",
    "    for data in train_loader:\n",
    "        pos = data.pos\n",
    "        mean = scatter(pos, data.batch, dim=0, reduce ='mean')\n",
    "        pos = pos - mean[data.batch]\n",
    "        out = model_inv(pos = data.pos, edge_index= data.edge_index,batch = data.batch)\n",
    "        loss = criterion(out,data.y)\n",
    "        optim.zero_grad()\n",
    "        loss.backward()\n",
    "        optim.step()\n",
    "        losses.append(loss.item())\n",
    "        test_error_inv.append(get_test_error(test_loader, model_inv))\n",
    "test_error_inv = list(zip(*test_error_inv))"
   ]
  },
  {
   "cell_type": "code",
   "execution_count": 94,
   "metadata": {},
   "outputs": [
    {
     "data": {
      "image/png": "[encoded data removed]",
      "text/plain": [
       "<Figure size 640x480 with 1 Axes>"
      ]
     },
     "metadata": {},
     "output_type": "display_data"
    }
   ],
   "source": [
    "# We train the SE(2)-equivariant GNN\n",
    "\n",
    "criterion = torch.nn.CrossEntropyLoss()\n",
    "from torch_geometric.utils import  scatter\n",
    "model_rot = RotTetrisModel(n_classes = 7, n_scalars=3, num_layers=2)\n",
    "\n",
    "optim = torch.optim.Adam(model_rot.parameters(), lr=1e-3)\n",
    "losses = []\n",
    "test_error_rot = []\n",
    "\n",
    "for epoch in range(100):\n",
    "    for data in train_loader:\n",
    "        pos = data.pos\n",
    "        mean = scatter(pos, data.batch, dim=0, reduce ='mean')\n",
    "        pos = pos - mean[data.batch]\n",
    "        out = model_rot(pos = data.pos, edge_index= data.edge_index,batch = data.batch)\n",
    "        loss = criterion(out,data.y)\n",
    "        optim.zero_grad()\n",
    "        loss.backward()\n",
    "        optim.step()\n",
    "        losses.append(loss.item())\n",
    "        test_error_rot.append(get_test_error(test_loader, model_rot))\n",
    "\n",
    "plt.plot(losses)\n",
    "test_error_rot = list(zip(*test_error_rot))\n"
   ]
  },
  {
   "cell_type": "code",
   "execution_count": 95,
   "metadata": {},
   "outputs": [
    {
     "data": {
      "text/plain": [
       "Text(0, 0.5, 'Number of epochs')"
      ]
     },
     "execution_count": 95,
     "metadata": {},
     "output_type": "execute_result"
    },
    {
     "data": {
      "image/png": "[encoded data removed]",
      "text/plain": [
       "<Figure size 500x300 with 1 Axes>"
      ]
     },
     "metadata": {},
     "output_type": "display_data"
    }
   ],
   "source": [
    "import matplotlib.pyplot as plt\n",
    "import numpy as np\n",
    "import seaborn as sns\n",
    "alpha = 0.7\n",
    "colors = sns.color_palette(\"Set1\")\n",
    "\n",
    "sns.set_style(\"white\")\n",
    "sns.set_palette(\"Set1\")\n",
    "model_types = [r\"$1\\times 2\\pi$\", r\"Rot $2\\times \\pi$\", r\"Rot $4 \\times \\pi/2$\", r\"Rot $8 \\times \\pi/4$\"]\n",
    "ind = np.arange(len(model_types))\n",
    "\n",
    "\n",
    "f,ax = plt.subplots(1,1, figsize =(5,3), sharey=True)\n",
    "ax.plot(range(1,101),test_error_rot[0], label = r\"SE2Conv-MLP\")\n",
    "\n",
    "ax.plot(range(1,101),test_error_inv[0], label = r\"Conv-MLP\")\n",
    "\n",
    "\n",
    "ax.legend(bbox_to_anchor=(1.0, 1.0))\n",
    "plt.xlim(0,100)\n",
    "plt.xlabel(\"Test accuracy\")\n",
    "plt.ylabel(\"Number of epochs\");\n"
   ]
  }
 ],
 "metadata": {
  "kernelspec": {
   "display_name": ".venv",
   "language": "python",
   "name": "python3"
  },
  "language_info": {
   "codemirror_mode": {
    "name": "ipython",
    "version": 3
   },
   "file_extension": ".py",
   "mimetype": "text/x-python",
   "name": "python",
   "nbconvert_exporter": "python",
   "pygments_lexer": "ipython3",
   "version": "3.9.13"
  }
 },
 "nbformat": 4,
 "nbformat_minor": 2
}
